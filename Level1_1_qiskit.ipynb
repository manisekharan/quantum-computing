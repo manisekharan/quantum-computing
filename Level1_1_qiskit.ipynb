{
  "nbformat": 4,
  "nbformat_minor": 0,
  "metadata": {
    "kernelspec": {
      "display_name": "Python 3",
      "language": "python",
      "name": "python3"
    },
    "language_info": {
      "codemirror_mode": {
        "name": "ipython",
        "version": 3
      },
      "file_extension": ".py",
      "mimetype": "text/x-python",
      "name": "python",
      "nbconvert_exporter": "python",
      "pygments_lexer": "ipython3",
      "version": "3.7.6"
    },
    "colab": {
      "provenance": [],
      "include_colab_link": true
    }
  },
  "cells": [
    {
      "cell_type": "markdown",
      "metadata": {
        "id": "view-in-github",
        "colab_type": "text"
      },
      "source": [
        "<a href=\"https://colab.research.google.com/github/manisekharan/quantum-computing/blob/main/Level1_1_qiskit.ipynb\" target=\"_parent\"><img src=\"https://colab.research.google.com/assets/colab-badge.svg\" alt=\"Open In Colab\"/></a>"
      ]
    },
    {
      "cell_type": "markdown",
      "metadata": {
        "id": "9FOL0zRS-wdb"
      },
      "source": [
        "# Coding Activity 1: Learning IBM Qiskit"
      ]
    },
    {
      "cell_type": "code",
      "metadata": {
        "id": "V7pKKY1jBqZE",
        "colab": {
          "base_uri": "https://localhost:8080/"
        },
        "outputId": "bcd63504-247e-4c91-ddc0-a1a8fd59b2f3"
      },
      "source": [
        "!pip install qiskit"
      ],
      "execution_count": 3,
      "outputs": [
        {
          "output_type": "stream",
          "name": "stdout",
          "text": [
            "Looking in indexes: https://pypi.org/simple, https://us-python.pkg.dev/colab-wheels/public/simple/\n",
            "Collecting qiskit\n",
            "  Downloading qiskit-0.43.0.tar.gz (10.0 kB)\n",
            "  Installing build dependencies ... \u001b[?25l\u001b[?25hdone\n",
            "  Getting requirements to build wheel ... \u001b[?25l\u001b[?25hdone\n",
            "  Installing backend dependencies ... \u001b[?25l\u001b[?25hdone\n",
            "  Preparing metadata (pyproject.toml) ... \u001b[?25l\u001b[?25hdone\n",
            "Collecting qiskit-terra==0.24.0 (from qiskit)\n",
            "  Downloading qiskit_terra-0.24.0-cp310-cp310-manylinux_2_17_x86_64.manylinux2014_x86_64.whl (5.9 MB)\n",
            "\u001b[2K     \u001b[90m━━━━━━━━━━━━━━━━━━━━━━━━━━━━━━━━━━━━━━━━\u001b[0m \u001b[32m5.9/5.9 MB\u001b[0m \u001b[31m42.1 MB/s\u001b[0m eta \u001b[36m0:00:00\u001b[0m\n",
            "\u001b[?25hCollecting qiskit-aer==0.12.0 (from qiskit)\n",
            "  Downloading qiskit_aer-0.12.0-cp310-cp310-manylinux_2_17_x86_64.manylinux2014_x86_64.whl (12.8 MB)\n",
            "\u001b[2K     \u001b[90m━━━━━━━━━━━━━━━━━━━━━━━━━━━━━━━━━━━━━━━━\u001b[0m \u001b[32m12.8/12.8 MB\u001b[0m \u001b[31m93.3 MB/s\u001b[0m eta \u001b[36m0:00:00\u001b[0m\n",
            "\u001b[?25hCollecting qiskit-ibmq-provider==0.20.2 (from qiskit)\n",
            "  Downloading qiskit_ibmq_provider-0.20.2-py3-none-any.whl (241 kB)\n",
            "\u001b[2K     \u001b[90m━━━━━━━━━━━━━━━━━━━━━━━━━━━━━━━━━━━━━━\u001b[0m \u001b[32m241.5/241.5 kB\u001b[0m \u001b[31m26.7 MB/s\u001b[0m eta \u001b[36m0:00:00\u001b[0m\n",
            "\u001b[?25hRequirement already satisfied: numpy>=1.16.3 in /usr/local/lib/python3.10/dist-packages (from qiskit-aer==0.12.0->qiskit) (1.22.4)\n",
            "Requirement already satisfied: scipy>=1.0 in /usr/local/lib/python3.10/dist-packages (from qiskit-aer==0.12.0->qiskit) (1.10.1)\n",
            "Requirement already satisfied: requests>=2.19 in /usr/local/lib/python3.10/dist-packages (from qiskit-ibmq-provider==0.20.2->qiskit) (2.27.1)\n",
            "Collecting requests-ntlm<=1.1.0 (from qiskit-ibmq-provider==0.20.2->qiskit)\n",
            "  Downloading requests_ntlm-1.1.0-py2.py3-none-any.whl (5.7 kB)\n",
            "Requirement already satisfied: urllib3>=1.21.1 in /usr/local/lib/python3.10/dist-packages (from qiskit-ibmq-provider==0.20.2->qiskit) (1.26.15)\n",
            "Requirement already satisfied: python-dateutil>=2.8.0 in /usr/local/lib/python3.10/dist-packages (from qiskit-ibmq-provider==0.20.2->qiskit) (2.8.2)\n",
            "Requirement already satisfied: websocket-client>=1.5.1 in /usr/local/lib/python3.10/dist-packages (from qiskit-ibmq-provider==0.20.2->qiskit) (1.5.1)\n",
            "Collecting websockets>=10.0 (from qiskit-ibmq-provider==0.20.2->qiskit)\n",
            "  Downloading websockets-11.0.3-cp310-cp310-manylinux_2_5_x86_64.manylinux1_x86_64.manylinux_2_17_x86_64.manylinux2014_x86_64.whl (129 kB)\n",
            "\u001b[2K     \u001b[90m━━━━━━━━━━━━━━━━━━━━━━━━━━━━━━━━━━━━━━\u001b[0m \u001b[32m129.9/129.9 kB\u001b[0m \u001b[31m13.7 MB/s\u001b[0m eta \u001b[36m0:00:00\u001b[0m\n",
            "\u001b[?25hCollecting rustworkx>=0.12.0 (from qiskit-terra==0.24.0->qiskit)\n",
            "  Downloading rustworkx-0.12.1-cp310-cp310-manylinux_2_17_x86_64.manylinux2014_x86_64.whl (1.9 MB)\n",
            "\u001b[2K     \u001b[90m━━━━━━━━━━━━━━━━━━━━━━━━━━━━━━━━━━━━━━━━\u001b[0m \u001b[32m1.9/1.9 MB\u001b[0m \u001b[31m74.8 MB/s\u001b[0m eta \u001b[36m0:00:00\u001b[0m\n",
            "\u001b[?25hCollecting ply>=3.10 (from qiskit-terra==0.24.0->qiskit)\n",
            "  Downloading ply-3.11-py2.py3-none-any.whl (49 kB)\n",
            "\u001b[2K     \u001b[90m━━━━━━━━━━━━━━━━━━━━━━━━━━━━━━━━━━━━━━━━\u001b[0m \u001b[32m49.6/49.6 kB\u001b[0m \u001b[31m5.9 MB/s\u001b[0m eta \u001b[36m0:00:00\u001b[0m\n",
            "\u001b[?25hRequirement already satisfied: psutil>=5 in /usr/local/lib/python3.10/dist-packages (from qiskit-terra==0.24.0->qiskit) (5.9.5)\n",
            "Requirement already satisfied: sympy>=1.3 in /usr/local/lib/python3.10/dist-packages (from qiskit-terra==0.24.0->qiskit) (1.11.1)\n",
            "Collecting dill>=0.3 (from qiskit-terra==0.24.0->qiskit)\n",
            "  Downloading dill-0.3.6-py3-none-any.whl (110 kB)\n",
            "\u001b[2K     \u001b[90m━━━━━━━━━━━━━━━━━━━━━━━━━━━━━━━━━━━━━━━\u001b[0m \u001b[32m110.5/110.5 kB\u001b[0m \u001b[31m9.9 MB/s\u001b[0m eta \u001b[36m0:00:00\u001b[0m\n",
            "\u001b[?25hCollecting stevedore>=3.0.0 (from qiskit-terra==0.24.0->qiskit)\n",
            "  Downloading stevedore-5.1.0-py3-none-any.whl (49 kB)\n",
            "\u001b[2K     \u001b[90m━━━━━━━━━━━━━━━━━━━━━━━━━━━━━━━━━━━━━━━━\u001b[0m \u001b[32m49.6/49.6 kB\u001b[0m \u001b[31m5.8 MB/s\u001b[0m eta \u001b[36m0:00:00\u001b[0m\n",
            "\u001b[?25hCollecting symengine<0.10,>=0.9 (from qiskit-terra==0.24.0->qiskit)\n",
            "  Downloading symengine-0.9.2-cp310-cp310-manylinux2010_x86_64.whl (37.5 MB)\n",
            "\u001b[2K     \u001b[90m━━━━━━━━━━━━━━━━━━━━━━━━━━━━━━━━━━━━━━━━\u001b[0m \u001b[32m37.5/37.5 MB\u001b[0m \u001b[31m21.6 MB/s\u001b[0m eta \u001b[36m0:00:00\u001b[0m\n",
            "\u001b[?25hRequirement already satisfied: six>=1.5 in /usr/local/lib/python3.10/dist-packages (from python-dateutil>=2.8.0->qiskit-ibmq-provider==0.20.2->qiskit) (1.16.0)\n",
            "Requirement already satisfied: certifi>=2017.4.17 in /usr/local/lib/python3.10/dist-packages (from requests>=2.19->qiskit-ibmq-provider==0.20.2->qiskit) (2022.12.7)\n",
            "Requirement already satisfied: charset-normalizer~=2.0.0 in /usr/local/lib/python3.10/dist-packages (from requests>=2.19->qiskit-ibmq-provider==0.20.2->qiskit) (2.0.12)\n",
            "Requirement already satisfied: idna<4,>=2.5 in /usr/local/lib/python3.10/dist-packages (from requests>=2.19->qiskit-ibmq-provider==0.20.2->qiskit) (3.4)\n",
            "Collecting ntlm-auth>=1.0.2 (from requests-ntlm<=1.1.0->qiskit-ibmq-provider==0.20.2->qiskit)\n",
            "  Downloading ntlm_auth-1.5.0-py2.py3-none-any.whl (29 kB)\n",
            "Requirement already satisfied: cryptography>=1.3 in /usr/local/lib/python3.10/dist-packages (from requests-ntlm<=1.1.0->qiskit-ibmq-provider==0.20.2->qiskit) (40.0.2)\n",
            "Collecting pbr!=2.1.0,>=2.0.0 (from stevedore>=3.0.0->qiskit-terra==0.24.0->qiskit)\n",
            "  Downloading pbr-5.11.1-py2.py3-none-any.whl (112 kB)\n",
            "\u001b[2K     \u001b[90m━━━━━━━━━━━━━━━━━━━━━━━━━━━━━━━━━━━━━━\u001b[0m \u001b[32m112.7/112.7 kB\u001b[0m \u001b[31m14.5 MB/s\u001b[0m eta \u001b[36m0:00:00\u001b[0m\n",
            "\u001b[?25hRequirement already satisfied: mpmath>=0.19 in /usr/local/lib/python3.10/dist-packages (from sympy>=1.3->qiskit-terra==0.24.0->qiskit) (1.3.0)\n",
            "Requirement already satisfied: cffi>=1.12 in /usr/local/lib/python3.10/dist-packages (from cryptography>=1.3->requests-ntlm<=1.1.0->qiskit-ibmq-provider==0.20.2->qiskit) (1.15.1)\n",
            "Requirement already satisfied: pycparser in /usr/local/lib/python3.10/dist-packages (from cffi>=1.12->cryptography>=1.3->requests-ntlm<=1.1.0->qiskit-ibmq-provider==0.20.2->qiskit) (2.21)\n",
            "Building wheels for collected packages: qiskit\n",
            "  Building wheel for qiskit (pyproject.toml) ... \u001b[?25l\u001b[?25hdone\n",
            "  Created wheel for qiskit: filename=qiskit-0.43.0-py3-none-any.whl size=7996 sha256=1f26c0662e8e9159955eacc5e2e96312d2a2278cbb0fac9608a5d73877b1978e\n",
            "  Stored in directory: /root/.cache/pip/wheels/11/fe/bc/59531707126e693bad48c61c0b86f3870b49f8f7ad49c18209\n",
            "Successfully built qiskit\n",
            "Installing collected packages: ply, websockets, symengine, rustworkx, pbr, ntlm-auth, dill, stevedore, requests-ntlm, qiskit-terra, qiskit-ibmq-provider, qiskit-aer, qiskit\n",
            "Successfully installed dill-0.3.6 ntlm-auth-1.5.0 pbr-5.11.1 ply-3.11 qiskit-0.43.0 qiskit-aer-0.12.0 qiskit-ibmq-provider-0.20.2 qiskit-terra-0.24.0 requests-ntlm-1.1.0 rustworkx-0.12.1 stevedore-5.1.0 symengine-0.9.2 websockets-11.0.3\n"
          ]
        }
      ]
    },
    {
      "cell_type": "markdown",
      "metadata": {
        "id": "Xyvn61O3-wgH"
      },
      "source": [
        "In this tutorial, we will learn about the basic components of a Qiskit code in order to ***build*** our first quantum circuit, ***execute*** it on a quantum simulator and ***analyze*** the outputs that we obtain. "
      ]
    },
    {
      "cell_type": "markdown",
      "metadata": {
        "id": "GFOeI3Zv-wgK"
      },
      "source": [
        "\n",
        "> **Step 1.** Import required packages. "
      ]
    },
    {
      "cell_type": "markdown",
      "metadata": {
        "id": "ZAcabl_3-wgM"
      },
      "source": [
        "We need to use pre-existing functions from different libraries for successfully running the code. Broadly speaking, we will need to import four types of libraries (of course, you can feel free to include more!):\n",
        "1. Python libraries required for various operations: Some libraries to keep in mind would be ***numpy*** and ***scipy*** (for advanced mathematical operations), ***matplotlib*** (for visualizing data with various plots).\n",
        "\n",
        "2. Qiskit packages used for building a quantum circuit: We will need to initiaze and store qubits (***QuantumRegister***), store the measurement results to classical bits (***ClassicalRegister***), and build a circuit (***QuantumCircuit***).\n",
        "\n",
        "3. Qiskit packages used to simulate the quantum circuit: We will need to run the quantum circuit we built on a simulator or a quantum computer (***execute***). Here, we will use the basic backend provided in Qiskit (***Aer***).\n",
        "\n",
        "4. Qiskit packages used to visualize and analyze results: We will use the most basic histogram plot (***plot_histogram***) from the ***qiskit.visualization*** package. "
      ]
    },
    {
      "cell_type": "code",
      "metadata": {
        "id": "hpPsZefw-wgO"
      },
      "source": [
        "#Python libraries required for various operations\n",
        "import numpy as np\n",
        "\n",
        "#Qiskit packages used for building a quantum circuit\n",
        "from qiskit import QuantumRegister, ClassicalRegister\n",
        "from qiskit import QuantumCircuit\n",
        "\n",
        "#Qiskit packages used to execute and simulate the quantum circuit\n",
        "from qiskit import execute, Aer\n",
        "\n",
        "#Qiskit packages used to visualize and analyze results\n",
        "from qiskit.visualization import plot_histogram"
      ],
      "execution_count": 4,
      "outputs": []
    },
    {
      "cell_type": "markdown",
      "metadata": {
        "id": "lcsG5SHA-wgT"
      },
      "source": [
        "> **Step 2.** Build a quantum circuit. "
      ]
    },
    {
      "cell_type": "markdown",
      "metadata": {
        "id": "CJnKCXto-wgU"
      },
      "source": [
        "As a part of this step, to build a circuit, we will need to\n",
        "1. initialize variables (quantum and classical registers, cicuit itself)\n",
        "2. add gates (operations and measurements)\n",
        "3. visualize the circuit\n",
        "\n",
        "Here, we will build a quantum circuit with one qubit which is made to pass through a ***Hadamard gate*** to create equal superposition of 0 and 1."
      ]
    },
    {
      "cell_type": "code",
      "metadata": {
        "id": "-TWPfg_R-wgY",
        "colab": {
          "base_uri": "https://localhost:8080/",
          "height": 94
        },
        "outputId": "e4b9684a-fb0e-4bc0-f302-1923da2b1c50"
      },
      "source": [
        "#Create quantum register to store qubit\n",
        "qreg_q = QuantumRegister(1, 'q')\n",
        "\n",
        "#Create classical register to store the results\n",
        "creg_c = ClassicalRegister(1, 'c')\n",
        "\n",
        "#Initialize quantum circuit\n",
        "circuit = QuantumCircuit(qreg_q, creg_c)\n",
        "\n",
        "#Initialize all qubits to |0>\n",
        "circuit.reset(qreg_q)\n",
        "\n",
        "#Apply the Hadamard gate on the qubit\n",
        "circuit.h(qreg_q)\n",
        "\n",
        "#Apply measurement\n",
        "circuit.measure(qreg_q, creg_c)\n",
        "\n",
        "#Visualize the constructed circuit\n",
        "circuit.draw()"
      ],
      "execution_count": 5,
      "outputs": [
        {
          "output_type": "execute_result",
          "data": {
            "text/plain": [
              "          ┌───┐┌─┐\n",
              "  q: ─|0>─┤ H ├┤M├\n",
              "          └───┘└╥┘\n",
              "c: 1/═══════════╩═\n",
              "                0 "
            ],
            "text/html": [
              "<pre style=\"word-wrap: normal;white-space: pre;background: #fff0;line-height: 1.1;font-family: &quot;Courier New&quot;,Courier,monospace\">          ┌───┐┌─┐\n",
              "  q: ─|0>─┤ H ├┤M├\n",
              "          └───┘└╥┘\n",
              "c: 1/═══════════╩═\n",
              "                0 </pre>"
            ]
          },
          "metadata": {},
          "execution_count": 5
        }
      ]
    },
    {
      "cell_type": "markdown",
      "metadata": {
        "id": "usuJgMBe-wgf"
      },
      "source": [
        "> **Step 3.** Circuit execution and experimentation. \n",
        "\n",
        "\n"
      ]
    },
    {
      "cell_type": "markdown",
      "metadata": {
        "id": "09Qvsyza-wgg"
      },
      "source": [
        "***Qiskit Aer*** is a high performance simulator framework for quantum circuits. We can change the backend of Aer to achieve different simulation goals. We can even include an actual quantum computer on the backend (as opposed to a simulator) for more complicated circuits. \n",
        "\n",
        "Note that number of shots refers to the number of times the circuit is run.  "
      ]
    },
    {
      "cell_type": "code",
      "metadata": {
        "id": "sLd96yY1-wgi",
        "colab": {
          "base_uri": "https://localhost:8080/"
        },
        "outputId": "d9e204d0-0113-49ca-f616-38b73f4e5032"
      },
      "source": [
        "# Use Aer's qasm_simulator\n",
        "simulator = Aer.get_backend('qasm_simulator')\n",
        "\n",
        "# Execute the circuit on the qasm simulator\n",
        "job = execute(circuit, simulator, shots=1000)\n",
        "\n",
        "# Grab results from the job\n",
        "result = job.result()\n",
        "\n",
        "# Returns counts\n",
        "counts = result.get_counts(circuit)\n",
        "print(\"\\n Output counts:\",counts)"
      ],
      "execution_count": 6,
      "outputs": [
        {
          "output_type": "stream",
          "name": "stdout",
          "text": [
            "\n",
            " Output counts: {'1': 500, '0': 500}\n"
          ]
        }
      ]
    },
    {
      "cell_type": "markdown",
      "metadata": {
        "id": "rOHBKCNz-wgk"
      },
      "source": [
        "> **Step 4.** Analyze and visualize results. "
      ]
    },
    {
      "cell_type": "markdown",
      "metadata": {
        "id": "kcdzkQLf-wgl"
      },
      "source": [
        "We will now plot the probablity of getting 0s and 1s after the execution of the circuit. The probabilities are computed by taking the respective counts and dividing by the total number of shots."
      ]
    },
    {
      "cell_type": "code",
      "metadata": {
        "id": "8fimqWOf-wgm",
        "colab": {
          "base_uri": "https://localhost:8080/",
          "height": 449
        },
        "outputId": "3d315214-74d3-4a2f-bd07-3d6635fbfcb6"
      },
      "source": [
        "# Plot a histogram\n",
        "plot_histogram(counts)"
      ],
      "execution_count": 7,
      "outputs": [
        {
          "output_type": "execute_result",
          "data": {
            "text/plain": [
              "<Figure size 700x500 with 1 Axes>"
            ],
            "image/png": "[encoded data removed]"
          },
          "metadata": {},
          "execution_count": 7
        }
      ]
    },
    {
      "cell_type": "markdown",
      "metadata": {
        "id": "gnG8q77x-wgo"
      },
      "source": [
        "Some things to try:\n",
        "1. Run the code multiple times to check if the results remain the same.\n",
        "2. Change the number of shots to see if the results differ significantly."
      ]
    },
    {
      "cell_type": "code",
      "metadata": {
        "id": "BoqYnafV-wgq"
      },
      "source": [],
      "execution_count": null,
      "outputs": []
    }
  ]
}